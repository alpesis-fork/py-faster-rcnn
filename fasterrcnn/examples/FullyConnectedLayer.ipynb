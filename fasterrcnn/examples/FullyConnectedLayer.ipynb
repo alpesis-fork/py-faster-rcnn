{
 "cells": [
  {
   "cell_type": "markdown",
   "metadata": {},
   "source": [
    "# Fully Connected Layer"
   ]
  },
  {
   "cell_type": "markdown",
   "metadata": {},
   "source": [
    "**Inputs**\n",
    "\n",
    "- rois: [M, K] = [# of rois, C x H x W]\n",
    "- weights: [N, K] = [output_shape, C x H x W]\n",
    "\n",
    "**Outputs**\n",
    "\n",
    "- output: [M, N]\n",
    "\n",
    "\n",
    "**Steps**\n",
    "\n",
    "```\n",
    "C := alpha * A * B + beta * C\n",
    "\n",
    "\n",
    "    C := (Dtype) 1. * bottom_data * weight.T + (Dtype) 0. * top_data\n",
    "      := bottom_data[M_ * K_] * weight[K_ * N_] \n",
    "      := top_data[M_ * N_]\n",
    "\n",
    "    - dim(bottom_data): [M, K] = [300, 512 * 7 * 7] = [300, 25088]\n",
    "    - dim(weights): [K, N] = [512 * 7 * 7, 4096] = [25088, 4096]\n",
    "    - dim(top_data): [M, N] = [300, 4096]\n",
    "```"
   ]
  },
  {
   "cell_type": "code",
   "execution_count": 1,
   "metadata": {
    "collapsed": true
   },
   "outputs": [],
   "source": [
    "# fc6\n",
    "\n",
    "# bottom_data: [300, 512, 7, 7]\n",
    "# weight: [4096, 512 * 7 * 7]\n",
    "# output_data: [300, 4096]\n",
    "\n",
    "# output_data [300, 4096] = bottom_data [300, 512*7*7] * weight.T [512*7*7, 4096]"
   ]
  },
  {
   "cell_type": "code",
   "execution_count": null,
   "metadata": {
    "collapsed": true
   },
   "outputs": [],
   "source": [
    "# fc7\n",
    "\n",
    "# bottom_data: [300, 4096]\n",
    "# weight: [4096, 4096]\n",
    "# output_data: [300, 4096]\n",
    "\n",
    "# output_data [300, 4096] = bottom_data[300, 4096] * weight.T [4096, 4096]"
   ]
  },
  {
   "cell_type": "code",
   "execution_count": null,
   "metadata": {
    "collapsed": true
   },
   "outputs": [],
   "source": [
    "# cls_score\n",
    "# - each class -> learned weights\n",
    "\n",
    "# bottom_data: [300, 4096]\n",
    "# weight: [21, 4096]\n",
    "# output_data: [300, 21]\n",
    "\n",
    "# output_data [300, 21] = bottom_data[300, 4096] * weight.T [4096, 21]"
   ]
  },
  {
   "cell_type": "code",
   "execution_count": null,
   "metadata": {
    "collapsed": true
   },
   "outputs": [],
   "source": [
    "# bbox_pred\n",
    "# - each bbox -> learned weights\n",
    "\n",
    "# bottom_data: [300, 4096]\n",
    "# weight: [84, 4096]\n",
    "# output_data: [300, 84]\n",
    "\n",
    "# output_data [300, 84] = bottom_data[300, 4096] * weight.T [4096, 84]"
   ]
  }
 ],
 "metadata": {
  "kernelspec": {
   "display_name": "Python 2",
   "language": "python",
   "name": "python2"
  },
  "language_info": {
   "codemirror_mode": {
    "name": "ipython",
    "version": 2
   },
   "file_extension": ".py",
   "mimetype": "text/x-python",
   "name": "python",
   "nbconvert_exporter": "python",
   "pygments_lexer": "ipython2",
   "version": "2.7.6"
  }
 },
 "nbformat": 4,
 "nbformat_minor": 2
}

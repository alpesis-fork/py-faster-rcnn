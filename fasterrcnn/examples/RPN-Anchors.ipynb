{
 "cells": [
  {
   "cell_type": "markdown",
   "metadata": {},
   "source": [
    "# Region Proposal Network - Anchors"
   ]
  },
  {
   "cell_type": "markdown",
   "metadata": {},
   "source": [
    "## 1. Anchors Overview\n",
    "\n",
    "\n",
    "**Key Concepts**\n",
    "\n",
    "Anchor generation is to generate a batch of anchors from the base anchor with various of ratios and scales.\n",
    "\n",
    "For Faster R-CNN, it will generate 9 anchors corresponding to the ratios * scales based on the base anchor [0, 0, 15, 15].\n",
    "\n",
    "- base_anchor: [0, 0, 15, 15]\n",
    "- ratios: [r1, r2, r3]\n",
    "- scales: [s1, s2, s3]\n",
    "\n",
    "**Steps**\n",
    "\n",
    "- to set the base_anchor, ratios, and scales;\n",
    "- to create the anchors from base_anchor by various of ratios;\n",
    "- to create the anchors from the ratio_anchors by various of scales.\n",
    "\n",
    "**Inputs**\n",
    "\n",
    "- base_anchor: [x_centroid, y_centroid, width, height]\n",
    "- ratios: [0.5, 1, 2]\n",
    "- scales: [8, 16, 32]\n",
    "\n",
    "**Outputs**\n",
    "\n",
    "- anchors: \n",
    "\n",
    "```\n",
    "    [[x1, y1, w1, h1], \n",
    "     [x2, y2, w2, h2], \n",
    "     [x3, y3, w3, h3]]\n",
    "```"
   ]
  },
  {
   "cell_type": "markdown",
   "metadata": {},
   "source": [
    "### 1.1. Anchors: Concepts"
   ]
  },
  {
   "cell_type": "markdown",
   "metadata": {},
   "source": [
    "1 base_anchor -> m ratio_anchors -> m * n scaled_anchors\n",
    "\n",
    "```\n",
    "- base_anchor.shape: [1, k]\n",
    "- ratios: [1, m]\n",
    "- scales: [1, n]\n",
    "\n",
    "- ratio_anchors.shape: [k, 1] * [1, m] = [k, m]\n",
    "- scaled_anchors.shape: [k, m] * [m, n] = [k, m * n]\n",
    "```"
   ]
  },
  {
   "cell_type": "markdown",
   "metadata": {},
   "source": [
    "### 1.2. Anchors: Mathematical Expressions"
   ]
  },
  {
   "cell_type": "markdown",
   "metadata": {},
   "source": [
    "**Inputs**\n",
    "\n",
    "- base_anchor: [x_centroid, y_centroid, width, height]\n",
    "- ratios: [r1, r2, r3]\n",
    "- scales: [s1, s2, s3]\n",
    "\n",
    "**Output**\n",
    "\n",
    "- anchors: \n",
    "\n",
    "```\n",
    "    [[rsx1, rsy1, rsw1, rsh1],\n",
    "     [rsx2, rsy2, rsw2, rsh2],\n",
    "     [rsx3, rsy3, rsw3, rsh3],\n",
    "     [rsx4, rsy4, rsw4, rsh4],\n",
    "     [rsx5, rsy5, rsw5, rsh5],\n",
    "     [rsx6, rsy6, rsw6, rsh6],\n",
    "     [rsx7, rsy7, rsw7, rsh7],\n",
    "     [rsx8, rsy8, rsw8, rsh8],\n",
    "     [rsx9, rsy9, rsw9, rsh9]]\n",
    "```\n",
    "\n",
    "**Steps**\n",
    "\n",
    "```\n",
    "1. ratio_anchors\n",
    "\n",
    "1.1. x_centroid, y_centroid, width, height\n",
    "\n",
    "      width' = width - x_centroid + 1\n",
    "      height' = height - y_centroid + 1\n",
    "      x_centroid' = x_centroid + 0.5 * (width' - 1)\n",
    "      y_centroid' = y_centroid + 0.5 * (height' - 1)\n",
    "\n",
    "\n",
    "1.2. widths, heights\n",
    "\n",
    "      ratios = [r1, r2, r3]\n",
    "      \n",
    "      widths = [round(sqrt(w * h / r1)), round(sqrt(w * h / r2)), round(sqrt(w * h / r3))] = [w1, w2, w3]\n",
    "      heights = [round (w1 * r1), round(w2 * r2), round(w3 * r3)]\n",
    "\n",
    "\n",
    "1.3. ratio_anchors\n",
    "\n",
    "      widths.T = [w1,\n",
    "                  w2,\n",
    "                  w3]\n",
    "      \n",
    "      heights.T = [h1,\n",
    "                   h2,\n",
    "                   h3]\n",
    "                   \n",
    "      anchors = [[x - 0.5 * (w1 - 1), y - 0.5 * (h1 - 1), x + 0.5 * (w1 - 1), y + 0.5 * (h1 - 1)],\n",
    "                 [x - 0.5 * (w2 - 1), y - 0.5 * (h2 - 1), x + 0.5 * (w2 - 1), y + 0.5 * (h2 - 1)],\n",
    "                 [x - 0.5 * (w3 - 1), y - 0.5 * (h3 - 1), x + 0.5 * (w3 - 1), y + 0.5 * (h3 - 1)]]\n",
    "\n",
    "\n",
    "2. scaled_anchors\n",
    "\n",
    "2.1. x_centroid, y_centroid, width, height\n",
    "\n",
    "      width' = width - x_centroid + 1\n",
    "      height' = height - y_centroid + 1\n",
    "      x_centroid' = x_centroid + 0.5 * (width' - 1)\n",
    "      y_centroid' = y_centroid + 0.5 * (height' - 1)\n",
    "      \n",
    "      anchors = [[x1', y1', w1', h1'],\n",
    "                 [x2', y2', w2', h2'],\n",
    "                 [x3', y3', w3', h3']]\n",
    "\n",
    "2.2. widths, heights\n",
    "\n",
    "      scales = [s1, s2, s3]\n",
    "      widths = [w1, w2, w3]\n",
    "      heights = [h1, h2, h3]\n",
    "      \n",
    "      widths = [[w1 * s1, w2 * s1, w3 * s1],\n",
    "                [w1 * s2, w2 * s2, w3 * s2],\n",
    "                [w1 * s3, w2 * s3, w3 * s3]]\n",
    "             \n",
    "             = [[w1s1, w2s1, w3s1],\n",
    "                [w1s2, w2s2, w3s2],\n",
    "                [w1s3, w2s3, w3s3]]\n",
    "\n",
    "      heights = [[h1 * s1, h2 * s1, h3 * s1],\n",
    "                 [h1 * s2, h2 * s2, h3 * s2],\n",
    "                 [h1 * s3, h2 * s3, h3 * s3]]\n",
    "             \n",
    "              = [[h1s1, h2s1, h3s1],\n",
    "                 [h1s2, h2s2, h3s2],\n",
    "                 [h1s3, h2s3, h3s3]]\n",
    "\n",
    "2.3. scaled_anchors\n",
    "\n",
    "      scaled_ratio_anchors = [[x1', y1', w1s1, h1s1],\n",
    "                              [x1', y1', w2s1, h2s1],\n",
    "                              [x1', y1', w3s1, h3s1],\n",
    "                              [x2', y2', w1s2, h1s2],\n",
    "                              [x2', y2', w2s2, h2s2],\n",
    "                              [x2', y2', w3s2, h3s2],\n",
    "                              [x3', y3', w1s3, h1s3],\n",
    "                              [x3', y3', w2s3, h2s3],\n",
    "                              [x3', y3', w3s3, h3s3]]\n",
    "                              \n",
    "      # [(x - 0.5 * (w - 1)), (y - 0.5 * (h - 1)), (x + 0.5 * (w - 1)), (y + 0.5 * (h - 1))]\n",
    "      - fx = x - 0.5 * (w - 1)\n",
    "      - fy = y - 0.5 * (h - 1)\n",
    "      - fw = x + 0.5 * (w - 1)\n",
    "      - fh = y + 0.5 * (h - 1)\n",
    "      final_scaled_ratio_anchors = [[fx1', fy1', fw1s1, fh1s1],\n",
    "                                    [fx1', fy1', fw2s1, fh2s1],\n",
    "                                    [fx1', fy1', fw3s1, fh3s1],\n",
    "                                    [fx2', fy2', fw1s2, fh1s2],\n",
    "                                    [fx2', fy2', fw2s2, fh2s2],\n",
    "                                    [fx2', fy2', fw3s2, fh3s2],\n",
    "                                    [fx3', fy3', fw1s3, fh1s3],\n",
    "                                    [fx3', fy3', fw2s3, fh2s3],\n",
    "                                    [fx3', fy3', fw3s3, fh3s3]]\n",
    "\n",
    "```"
   ]
  },
  {
   "cell_type": "markdown",
   "metadata": {},
   "source": [
    "### 1.3. Anchors: Example"
   ]
  },
  {
   "cell_type": "markdown",
   "metadata": {},
   "source": [
    "**Inputs**\n",
    "\n",
    "- base_anchor: [0, 0, 15, 15]\n",
    "- ratios: [0.5, 1, 2]\n",
    "- scales: [8, 16, 32]\n",
    "\n",
    "**Output**\n",
    "\n",
    "- anchors\n",
    "\n",
    "**Steps**\n",
    "\n",
    "```\n",
    "1. ratio_anchors\n",
    "\n",
    "1.1. x_centroid, y_centroid, width, height \n",
    "\n",
    "      base_anchor: [0, 0, 15, 15]\n",
    "      - x_centroid: 0\n",
    "      - y_centroid: 0\n",
    "      - width: 15\n",
    "      - height: 15\n",
    "\n",
    "      width' = 15 - 0 + 1 = 16\n",
    "      height' = 15 - 0 + 1 = 16\n",
    "      x_centroid' = 0 + 0.5 * (16 - 1) = 7.5\n",
    "      y_centroid' = 0 + 0.5 * (16 - 1) = 7.5\n",
    "\n",
    "\n",
    "1.2. widths, heights\n",
    "\n",
    "      ratios = [0.5, 1, 2]\n",
    "      \n",
    "      size = 16 * 16 = 256\n",
    "      size_ratios = 256 / [0.5, 1, 2] = [512, 256, 128]\n",
    "      \n",
    "      widths = round(sqrt([512, 256, 128])) = [23, 16, 11]\n",
    "      heights = [23, 16, 11] * [0.5, 1, 2].T = [12, 16, 22]\n",
    "      \n",
    "      ratio_anchors = [[7.5, 7.5, 23, 12],\n",
    "                       [7.5, 7.5, 16, 16],\n",
    "                       [7.5, 7.5, 11, 22]]\n",
    "                                               \n",
    "\n",
    "1.3. ratio_anchors\n",
    "\n",
    "    widths.T = [23, 16, 11].T\n",
    "    heights = [11, 16, 22].T\n",
    "\n",
    "    anchors = [(7.5 - 0.5 * (23 - 1)), (7.5 - 0.5 * (12 - 1)), (7.5 + 0.5 * (23 - 1)), (7.5 + 0.5 * (12 - 1))],\n",
    "               (7.5 - 0.5 * (16 - 1)), (7.5 - 0.5 * (16 - 1)), (7.5 + 0.5 * (16 - 1)), (7.5 + 0.5 * (16 - 1))],\n",
    "               (7.5 - 0.5 * (11 - 1)), (7.5 - 0.5 * (22 - 1)), (7.5 + 0.5 * (11 - 1)), (7.5 + 0.5 * (22 - 1))]]\n",
    "               \n",
    "            = [[-3.5,    2, 18.5,   13],\n",
    "               [   0,    0,   15,   15],\n",
    "               [ 2.5,   -3, 12.5,   18]]\n",
    "\n",
    "\n",
    "2. scaled_anchors\n",
    "\n",
    "2.1. x_centroid, y_centroid, width, height\n",
    "\n",
    "      anchor1 = [-3.5, 2, 18.5, 13]\n",
    "      - width' = 18.5 - (-3.5) + 1 = 23\n",
    "      - height' = 13 - 2 + 1 = 12\n",
    "      - x_centroid' = -3.5 + 0.5 * (23 - 1) = 7.5\n",
    "      - y_centroid' = 2 + 0.5 * (12 - 1) = 7.5\n",
    "      \n",
    "      anchor2 = [0, 0, 15, 15]\n",
    "      - width' = 15 - 0 + 1 = 16\n",
    "      - height' = 15 - 0 + 1 = 16\n",
    "      - x_centroid' = 0 + 0.5 * (16 - 1) = 7.5\n",
    "      - y_centroid' = 0 + 0.5 * (16 - 1) = 7.5\n",
    "      \n",
    "      anchor3 = [2.5, -3, 12.5, 18]\n",
    "      - width' = 12.5 - 2.5 + 1 = 11\n",
    "      - height' = 18 - (-3) + 1 = 22\n",
    "      - x_centroid' = 2.5 + 0.5 * (11 - 1) = 7.5\n",
    "      - y_centroid' = -3 + 0.5 * (22 - 1) = 7.5\n",
    "      \n",
    "      anchors = [[7.5, 7.5, 23, 12],\n",
    "                 [7.5, 7.5, 16, 16],\n",
    "                 [7.5, 7.5, 11, 22]]\n",
    "\n",
    "2.2. widths, heights\n",
    "\n",
    "      scales = [8, 16, 32]\n",
    "      widths = [23, 16, 11]\n",
    "      heights = [12, 16, 22]\n",
    "      \n",
    "      scale1 = 8\n",
    "      - widths' = [23 * 8, 16 * 8, 11 * 8] = [184, 128, 88]\n",
    "      - heights' = [12 * 8, 16 * 8, 22 * 8] = [96, 128, 176]\n",
    "      \n",
    "      scale2 = 16\n",
    "      - widths' = [23 * 16, 16 * 16, 11 * 16 = [368, 256, 176]\n",
    "      - heights' = [12 * 16, 16 * 16, 22 * 16] = [192, 256, 352]\n",
    "      \n",
    "      scale3 = 32\n",
    "      - widths' = [23 * 32, 16 * 32, 11 * 32] = [736, 512, 352]\n",
    "      - heights' = [12 * 32, 16 * 32, 22 * 32] = [384, 512, 704]\n",
    "      \n",
    "      widths = [[184, 128,  88],\n",
    "                [368, 256, 176],\n",
    "                [736, 512, 352]]\n",
    "                \n",
    "      heights = [[ 96, 128, 176],\n",
    "                 [192, 256, 352],\n",
    "                 [384, 512, 704]]\n",
    "      \n",
    "      \n",
    "     \n",
    "2.3. scaled_anchors\n",
    "                        \n",
    " ratio_anchors = [[7.5, 7.5, 184,  96],\n",
    "                  [7.5, 7.5, 128, 128],\n",
    "                  [7.5, 7.5,  88, 176],\n",
    "                  [7.5, 7.5, 368, 192],\n",
    "                  [7.5, 7.5, 256, 256],\n",
    "                  [7.5, 7.5, 176, 352],\n",
    "                  [7.5, 7.5, 736, 384],\n",
    "                  [7.5, 7.5, 512, 512],\n",
    "                  [7.5, 7.5, 352, 704]]\n",
    "                        \n",
    "                                             \n",
    "  # [(x - 0.5 * (w - 1)), (y - 0.5 * (h - 1)), (x + 0.5 * (w - 1)), (y + 0.5 * (h - 1))]\n",
    "        \n",
    "  scaled_anchors = [[ 7.5 - 0.5 * (184 - 1), 7.5 - 0.5 * ( 96 - 1), 7.5 + 0.5 * (184 - 1), 7.5 + 0.5 * ( 96 - 1)],\n",
    "                    [ 7.5 - 0.5 * (128 - 1), 7.5 - 0.5 * (128 - 1), 7.5 + 0.5 * (128 - 1), 7.5 + 0.5 * (128 - 1)],\n",
    "                    [ 7.5 - 0.5 * ( 88 - 1), 7.5 - 0.5 * (176 - 1), 7.5 + 0.5 * ( 88 - 1), 7.5 + 0.5 * (176 - 1)],\n",
    "                    [ 7.5 - 0.5 * (368 - 1), 7.5 - 0.5 * (192 - 1), 7.5 + 0.5 * (368 - 1), 7.5 + 0.5 * (192 - 1)],\n",
    "                    [ 7.5 - 0.5 * (256 - 1), 7.5 - 0.5 * (256 - 1), 7.5 + 0.5 * (256 - 1), 7.5 + 0.5 * (256 - 1)],\n",
    "                    [ 7.5 - 0.5 * (176 - 1), 7.5 - 0.5 * (352 - 1), 7.5 + 0.5 * (176 - 1), 7.5 + 0.5 * (352 - 1)],\n",
    "                    [ 7.5 - 0.5 * (736 - 1), 7.5 - 0.5 * (384 - 1), 7.5 + 0.5 * (736 - 1), 7.5 + 0.5 * (384 - 1)],\n",
    "                    [ 7.5 - 0.5 * (512 - 1), 7.5 - 0.5 * (512 - 1), 7.5 + 0.5 * (512 - 1), 7.5 + 0.5 * (512 - 1)],\n",
    "                    [ 7.5 - 0.5 * (352 - 1), 7.5 - 0.5 * (704 - 1), 7.5 + 0.5 * (352 - 1), 7.5 + 0.5 * (704 - 1)]]\n",
    "                          \n",
    "                  = [[ -84,  -40,  99,  55],\n",
    "                     [ -56,  -56,  71,  71],\n",
    "                     [ -36,  -80,  51,  95],\n",
    "                     [-176,  -88, 191, 103],\n",
    "                     [-120, -120, 135, 135],\n",
    "                     [ -80, -168,  95, 183],\n",
    "                     [-360, -184, 375, 199],\n",
    "                     [-248, -248, 263, 263],\n",
    "                     [-168, -344, 183, 359]]\n",
    "                       \n",
    "\n",
    "```"
   ]
  },
  {
   "cell_type": "markdown",
   "metadata": {},
   "source": [
    "### 1.4. Anchors: Visualization"
   ]
  },
  {
   "cell_type": "code",
   "execution_count": 299,
   "metadata": {
    "collapsed": true
   },
   "outputs": [],
   "source": [
    "import matplotlib\n",
    "import matplotlib.pyplot as plt\n",
    "%matplotlib inline\n",
    "\n",
    "def draw_anchors(anchors):\n",
    "    \"\"\"\n",
    "    Drawing the anchors by anchor data.\n",
    "    \"\"\"\n",
    "    \n",
    "    fig = plt.figure()\n",
    "    ax = fig.add_subplot(111)\n",
    "    \n",
    "    # add anchors\n",
    "    ax.add_patch(matplotlib.patches.Rectangle((0, 0), 15, 15, fill=False, edgecolor='red'))\n",
    "    for anchor in anchors:\n",
    "        ax.add_patch(matplotlib.patches.Rectangle((anchor[0], anchor[1]),    # x_centroid, y_centroid\n",
    "                                                  anchor[2],                 # width\n",
    "                                                  anchor[3],                 # height\n",
    "                                                  fill=False,\n",
    "                                                  edgecolor='blue'))\n",
    "\n",
    "    plt.xlim([-500, 500])\n",
    "    plt.ylim([-500, 500])\n",
    "    plt.show()"
   ]
  },
  {
   "cell_type": "markdown",
   "metadata": {},
   "source": [
    "#### 1.4.1. base anchor"
   ]
  },
  {
   "cell_type": "code",
   "execution_count": 300,
   "metadata": {
    "collapsed": false
   },
   "outputs": [
    {
     "data": {
      "image/png": "[encoded data removed]",
      "text/plain": [
       "<matplotlib.figure.Figure at 0x7fe66079e490>"
      ]
     },
     "metadata": {},
     "output_type": "display_data"
    }
   ],
   "source": [
    "# 1. base_anchor\n",
    "\n",
    "base_anchor = [[0, 0, 15, 15]]\n",
    "draw_anchors(base_anchor)"
   ]
  },
  {
   "cell_type": "markdown",
   "metadata": {},
   "source": [
    "#### 1.4.2. ratio_anchors"
   ]
  },
  {
   "cell_type": "markdown",
   "metadata": {},
   "source": [
    "##### 1.4.2.1. ratio_anchors: x, y, w, h"
   ]
  },
  {
   "cell_type": "code",
   "execution_count": 306,
   "metadata": {
    "collapsed": false
   },
   "outputs": [
    {
     "data": {
      "image/png": "[encoded data removed]",
      "text/plain": [
       "<matplotlib.figure.Figure at 0x7fe64c2f5d50>"
      ]
     },
     "metadata": {},
     "output_type": "display_data"
    }
   ],
   "source": [
    "# 2. ratio_anchors\n",
    "\n",
    "# 2.1 x, y, w, h\n",
    "\n",
    "ratio_anchor = [[7.5, 7.5, 16, 16]]\n",
    "draw_anchors(ratio_anchor)"
   ]
  },
  {
   "cell_type": "markdown",
   "metadata": {},
   "source": [
    "##### 1.4.2.2. ratio_anchors: w, h with ratios"
   ]
  },
  {
   "cell_type": "code",
   "execution_count": 307,
   "metadata": {
    "collapsed": false
   },
   "outputs": [
    {
     "data": {
      "image/png": "[encoded data removed]",
      "text/plain": [
       "<matplotlib.figure.Figure at 0x7fe660724dd0>"
      ]
     },
     "metadata": {},
     "output_type": "display_data"
    }
   ],
   "source": [
    "# 2.2. w, h\n",
    "\n",
    "ratio_anchors_with_wh = [[7.5, 7.5, 23, 12],\n",
    "                         [7.5, 7.5, 16, 16],\n",
    "                         [7.5, 7.5, 11, 22]]\n",
    "draw_anchors(ratio_anchors_with_wh)"
   ]
  },
  {
   "cell_type": "markdown",
   "metadata": {},
   "source": [
    "##### 1.4.2.3. ratio_anchors: interim ratio anchors"
   ]
  },
  {
   "cell_type": "code",
   "execution_count": 301,
   "metadata": {
    "collapsed": false
   },
   "outputs": [
    {
     "data": {
      "image/png": "[encoded data removed]",
      "text/plain": [
       "<matplotlib.figure.Figure at 0x7fe643f112d0>"
      ]
     },
     "metadata": {},
     "output_type": "display_data"
    }
   ],
   "source": [
    "# 2.3 ratio_anchors\n",
    "\n",
    "ratio_anchors = [[-3.5,    2, 18.5,   13],\n",
    "                 [   0,    0,   15,   15],\n",
    "                 [ 2.5,   -3, 12.5,   18]]\n",
    "draw_anchors(ratio_anchors)"
   ]
  },
  {
   "cell_type": "markdown",
   "metadata": {},
   "source": [
    "#### 1.4.3. scale anchors"
   ]
  },
  {
   "cell_type": "markdown",
   "metadata": {},
   "source": [
    "##### 1.4.3.1. scale_anchors: x, y, w, h"
   ]
  },
  {
   "cell_type": "code",
   "execution_count": 302,
   "metadata": {
    "collapsed": false
   },
   "outputs": [
    {
     "data": {
      "image/png": "[encoded data removed]",
      "text/plain": [
       "<matplotlib.figure.Figure at 0x7fe6607845d0>"
      ]
     },
     "metadata": {},
     "output_type": "display_data"
    }
   ],
   "source": [
    "# 3. scaled_anchors\n",
    "\n",
    "# 3.1. x, y, w, h\n",
    "new_ratio_anchors = [[7.5, 7.5, 23, 12],\n",
    "                     [7.5, 7.5, 16, 16],\n",
    "                     [7.5, 7.5, 11, 22]]\n",
    "draw_anchors(new_ratio_anchors)"
   ]
  },
  {
   "cell_type": "markdown",
   "metadata": {},
   "source": [
    "##### 1.4.3.2. scaled_anchors: widths, heights by scales"
   ]
  },
  {
   "cell_type": "code",
   "execution_count": 304,
   "metadata": {
    "collapsed": false
   },
   "outputs": [
    {
     "data": {
      "image/png": "[encoded data removed]",
      "text/plain": [
       "<matplotlib.figure.Figure at 0x7fe643ef7fd0>"
      ]
     },
     "metadata": {},
     "output_type": "display_data"
    }
   ],
   "source": [
    "# 3.2. widths, heights\n",
    "\n",
    "scaled_ratio_anchors = [[7.5, 7.5, 184,  96],\n",
    "                        [7.5, 7.5, 128, 128],\n",
    "                        [7.5, 7.5,  88, 176],\n",
    "                        [7.5, 7.5, 368, 192],\n",
    "                        [7.5, 7.5, 256, 256],\n",
    "                        [7.5, 7.5, 176, 352],\n",
    "                        [7.5, 7.5, 736, 384],\n",
    "                        [7.5, 7.5, 512, 512],\n",
    "                        [7.5, 7.5, 352, 704]]\n",
    "draw_anchors(scaled_ratio_anchors)"
   ]
  },
  {
   "cell_type": "markdown",
   "metadata": {},
   "source": [
    "##### 1.4.3.3. scaled_anchors: final_scaled_anchors"
   ]
  },
  {
   "cell_type": "code",
   "execution_count": 305,
   "metadata": {
    "collapsed": false
   },
   "outputs": [
    {
     "data": {
      "image/png": "[encoded data removed]",
      "text/plain": [
       "<matplotlib.figure.Figure at 0x7fe64c2b1710>"
      ]
     },
     "metadata": {},
     "output_type": "display_data"
    }
   ],
   "source": [
    "# 3.3. final anchors\n",
    "\n",
    "final_scaled_anchors = [[ -84,  -40,  99,  55],\n",
    "                        [ -56,  -56,  71,  71],\n",
    "                        [ -36,  -80,  51,  95],\n",
    "                        [-176,  -88, 191, 103],\n",
    "                        [-120, -120, 135, 135],\n",
    "                        [ -80, -168,  95, 183],\n",
    "                        [-360, -184, 375, 199],\n",
    "                        [-248, -248, 263, 263],\n",
    "                        [-168, -344, 183, 359]]\n",
    "draw_anchors(final_scaled_anchors)"
   ]
  },
  {
   "cell_type": "markdown",
   "metadata": {},
   "source": [
    "## 2. Anchors Implementation\n",
    "\n",
    "Function Tree:\n",
    "\n",
    "```\n",
    "    generate_anchors(base_size, ratios, scales)\n",
    "              +\n",
    "              +------ _generate_multi_ratio_anchors(anchor, ratios)\n",
    "              +                +\n",
    "              +                +------ _get_anchor_info(anchor)\n",
    "              +                +------ widths, heights by ratios\n",
    "              +                +------ _create_anchors(widths, heightss, x_centroid, y_centroid)\n",
    "              +\n",
    "              +------ _generate_multi_scaled_anchors(anchor, scales)\n",
    "                               +\n",
    "                               +------ _get_anchor_info(anchor)\n",
    "                               +------ widths, heights by scales\n",
    "                               +------ _create_anchors(widths, heights, x_centroid, y_centroid)\n",
    "```"
   ]
  },
  {
   "cell_type": "markdown",
   "metadata": {},
   "source": [
    "### 2.1. Anchors Implementation: generate_anchors(base_size, ratios, scales)"
   ]
  },
  {
   "cell_type": "markdown",
   "metadata": {},
   "source": [
    "#### 2.1.1. Mathematical Expressions\n",
    "\n",
    "**Inputs**\n",
    "\n",
    "- base_size:\n",
    "- ratios:\n",
    "- scales:\n",
    "\n",
    "**Outputs**\n",
    "\n",
    "- anchors:\n",
    "\n",
    "**Expressions**\n",
    "\n",
    "- base_anchor = [0, 0, base_size, base_size] - 1\n",
    "- ratio_anchors:\n",
    "- scaled_anchors:"
   ]
  },
  {
   "cell_type": "markdown",
   "metadata": {},
   "source": [
    "#### 2.1.2. Source Codes"
   ]
  },
  {
   "cell_type": "code",
   "execution_count": 288,
   "metadata": {
    "collapsed": true
   },
   "outputs": [],
   "source": [
    "def generate_anchors(base_size=16, \n",
    "                     ratios=[0.5, 1, 2],\n",
    "                     scales=2**np.arange(3, 6)):\n",
    "    \"\"\"\n",
    "    Input base_size, ratios [r1, r2, ..., rn] and scales [s1, s2, ..., sn]\n",
    "    and returns the anchors by ratios * scales one by one.\n",
    "    \n",
    "    Algorithms:\n",
    "    - inputs:\n",
    "      - base_size:\n",
    "      - ratios:\n",
    "      - scales:\n",
    "    - output:\n",
    "      - anchors:\n",
    "    - process:\n",
    "      - to get the base_anchor: [1, 1, base_size, base_size] - 1\n",
    "      - to generate ratio_anchors\n",
    "      - to generate anchors from ratio_anchors by scales\n",
    "      \n",
    "    For instance:\n",
    "    \n",
    "        base_anchor: [0, 0, 15, 15], with shape (4, 1)\n",
    "        ratios: [0.5, 1, 2], with shape (1, 3)\n",
    "        scales: [8, 16, 32], with shape (1, 3)\n",
    "        \n",
    "        ratio_anchors:\n",
    "          - shape = base_anchor.shape * ratios.shape = (4, 1) * (1, 3) = (4, 3)\n",
    "          - format:\n",
    "                [[rx1, ry1, rw1, rh1],\n",
    "                 [rx2, ry2, rw2, rh2], \n",
    "                 [rx3, ry3, rw3, rh3]]\n",
    "\n",
    "        scaled_anchors:\n",
    "          - shape = ratio_anchors.shape * scales.shape = (4, 3) * 3 = (4, 9)\n",
    "          - format:\n",
    "                [[rsx1, rsy1, rsw1, rsh1],\n",
    "                 [rsx2, rsy2, rsw2, rsh2],\n",
    "                 [rsx3, rsy3, rsw3, rsh3],\n",
    "                 [rsx4, rsy4, rsw4, rsh4],\n",
    "                 [rsx5, rsy5, rsw5, rsh5],\n",
    "                 [rsx6, rsy6, rsw6, rsh6],\n",
    "                 [rsx7, rsy7, rsw7, rsh7],\n",
    "                 [rsx8, rsy8, rsw8, rsh8],\n",
    "                 [rsx9, rsy9, rsw9, rsh9]]\n",
    "\n",
    "    Inputs:\n",
    "    @param base_size: a value\n",
    "    @param ratios: a vector [r1, r2, ..., rn]\n",
    "    @param scales: a vector [s1, s2, ..., sn]\n",
    "    \n",
    "    Outputs:\n",
    "    @output anchors: with shape (anchor.shape, ratios.shape * scales.shape)\n",
    "    \"\"\"\n",
    "\n",
    "    base_anchor = np.array([1, 1, base_size, base_size]) - 1\n",
    "\n",
    "    ratio_anchors = _generate_multi_ratio_anchors(base_anchor, ratios)\n",
    "    \n",
    "    # generate anchors by ratio_anchors * scales\n",
    "    anchors = np.vstack([_generate_multi_scaled_anchors(ratio_anchors[i, :], scales) \n",
    "                         for i in xrange(ratio_anchors.shape[0])])\n",
    "    \n",
    "    return anchors"
   ]
  },
  {
   "cell_type": "markdown",
   "metadata": {},
   "source": [
    "#### 2.1.3. Test Cases"
   ]
  },
  {
   "cell_type": "code",
   "execution_count": 160,
   "metadata": {
    "collapsed": false
   },
   "outputs": [
    {
     "name": "stdout",
     "output_type": "stream",
     "text": [
      "anchor[x_centroid, y_centroid, width, height]:  [ 0  0 15 15]\n",
      "width' = width - x_centroid + 1 =  16\n",
      "height' = height - y_centroid + 1 =  16\n",
      "x_centroid' = x_centroid + 0.5 * (width' - 1) =  7.5\n",
      "y_centroid' = y_centroid + 0.5 * (height' - 1) =  7.5\n",
      "anchors:  [[ -3.5   2.   18.5  13. ]\n",
      " [  0.    0.   15.   15. ]\n",
      " [  2.5  -3.   12.5  18. ]]\n",
      "ratio_anchors:  [[ -3.5   2.   18.5  13. ]\n",
      " [  0.    0.   15.   15. ]\n",
      " [  2.5  -3.   12.5  18. ]]\n",
      "anchor[x_centroid, y_centroid, width, height]:  [ -3.5   2.   18.5  13. ]\n",
      "width' = width - x_centroid + 1 =  23.0\n",
      "height' = height - y_centroid + 1 =  12.0\n",
      "x_centroid' = x_centroid + 0.5 * (width' - 1) =  7.5\n",
      "y_centroid' = y_centroid + 0.5 * (height' - 1) =  7.5\n",
      "anchors:  [[ -84.  -40.   99.   55.]\n",
      " [-176.  -88.  191.  103.]\n",
      " [-360. -184.  375.  199.]]\n",
      "scaled_anchors:  [[ -84.  -40.   99.   55.]\n",
      " [-176.  -88.  191.  103.]\n",
      " [-360. -184.  375.  199.]]\n",
      "anchor[x_centroid, y_centroid, width, height]:  [  0.   0.  15.  15.]\n",
      "width' = width - x_centroid + 1 =  16.0\n",
      "height' = height - y_centroid + 1 =  16.0\n",
      "x_centroid' = x_centroid + 0.5 * (width' - 1) =  7.5\n",
      "y_centroid' = y_centroid + 0.5 * (height' - 1) =  7.5\n",
      "anchors:  [[ -56.  -56.   71.   71.]\n",
      " [-120. -120.  135.  135.]\n",
      " [-248. -248.  263.  263.]]\n",
      "scaled_anchors:  [[ -56.  -56.   71.   71.]\n",
      " [-120. -120.  135.  135.]\n",
      " [-248. -248.  263.  263.]]\n",
      "anchor[x_centroid, y_centroid, width, height]:  [  2.5  -3.   12.5  18. ]\n",
      "width' = width - x_centroid + 1 =  11.0\n",
      "height' = height - y_centroid + 1 =  22.0\n",
      "x_centroid' = x_centroid + 0.5 * (width' - 1) =  7.5\n",
      "y_centroid' = y_centroid + 0.5 * (height' - 1) =  7.5\n",
      "anchors:  [[ -36.  -80.   51.   95.]\n",
      " [ -80. -168.   95.  183.]\n",
      " [-168. -344.  183.  359.]]\n",
      "scaled_anchors:  [[ -36.  -80.   51.   95.]\n",
      " [ -80. -168.   95.  183.]\n",
      " [-168. -344.  183.  359.]]\n"
     ]
    },
    {
     "data": {
      "text/plain": [
       "array([[ -84.,  -40.,   99.,   55.],\n",
       "       [-176.,  -88.,  191.,  103.],\n",
       "       [-360., -184.,  375.,  199.],\n",
       "       [ -56.,  -56.,   71.,   71.],\n",
       "       [-120., -120.,  135.,  135.],\n",
       "       [-248., -248.,  263.,  263.],\n",
       "       [ -36.,  -80.,   51.,   95.],\n",
       "       [ -80., -168.,   95.,  183.],\n",
       "       [-168., -344.,  183.,  359.]])"
      ]
     },
     "execution_count": 160,
     "metadata": {},
     "output_type": "execute_result"
    }
   ],
   "source": [
    "generate_anchors()"
   ]
  },
  {
   "cell_type": "markdown",
   "metadata": {},
   "source": [
    "### 2.2. Anchors Implementation:  _generate_multi_ratio_anchors(anchor, ratios)"
   ]
  },
  {
   "cell_type": "markdown",
   "metadata": {},
   "source": [
    "#### 2.2.1. Mathematical Expressions\n",
    "\n",
    "**Inputs**\n",
    "\n",
    "- anchor: [x_centroid, y_centorid, width, height]\n",
    "- ratios: [r1, r2, r3]\n",
    "\n",
    "**Outputs**\n",
    "\n",
    "- ratio_anchors: a matrix\n",
    "\n",
    "```\n",
    "    [[rx1, ry1, rw1, rh1],\n",
    "     [rx2, ry2, rw2, rh2],\n",
    "     [rx3, ry3, rw3, rh3]]\n",
    "```\n",
    "\n",
    "**Expressions**\n",
    "\n",
    "- anchor -> width, height, x_centroid, y_centroid\n",
    "- widths = np.round(np.sqrt(width*height/ratios))\n",
    "- heights = np.round(widths * ratios)\n",
    "- widths, heights, x_centroid, y_centroid -> anchors"
   ]
  },
  {
   "cell_type": "markdown",
   "metadata": {},
   "source": [
    "#### 2.2.2. Source Codes"
   ]
  },
  {
   "cell_type": "code",
   "execution_count": 291,
   "metadata": {
    "collapsed": true
   },
   "outputs": [],
   "source": [
    "def _generate_multi_ratio_anchors(anchor, ratios):\n",
    "    \"\"\"\n",
    "    Input an anchor[x_centroid, y_centroid, width, height] and a vector ratios [r1, r2, r3]\n",
    "    and returns the batch of ratio anchors.\n",
    "    \n",
    "    Algorithms:\n",
    "    - inputs:\n",
    "      - anchor: [x_centroid, y_centroid, width, height]\n",
    "      - ratios: [r1, r2, r3]\n",
    "    - outputs:\n",
    "      - ratio_anchors: \n",
    "    - process:\n",
    "      - get the anchor info: width, height, x_centroid, y_centroid\n",
    "      - calculate the widths and heights by ratios\n",
    "      - generate the anchors by ratios\n",
    "    \n",
    "    Inputs:\n",
    "    @param anchor: (type) numpy.array(), a vector of [x_centroid, y_centroid, width, height]\n",
    "    @param ratios: (type) numpy.array(), a vector of ratios [r1, r2, r3]\n",
    "    \n",
    "    Outputs:\n",
    "    @output ratio_anchors: (type) numpy.array()\n",
    "    \n",
    "        array([[ -3.5,  2, 18.5, 13 ],\n",
    "               [    0,  0,   15, 15 ],\n",
    "               [  2.5, -3, 12.5, 18]])\n",
    "    \"\"\"\n",
    "\n",
    "\n",
    "    width, height, x_centroid, y_centroid = _get_anchor_info(anchor)\n",
    "\n",
    "    size = width * height\n",
    "    size_ratios = size / ratios\n",
    "    widths = np.round(np.sqrt(size_ratios))\n",
    "    heights = np.round(widths * ratios)\n",
    "    \n",
    "    print \"widths: \", widths\n",
    "    print \"ratios: \", ratios\n",
    "    print \"heights: \", heights\n",
    "    \n",
    "    anchors = _create_anchors(widths, heights, x_centroid, y_centroid)\n",
    "\n",
    "    print \"ratio_anchors: \", anchors\n",
    "\n",
    "    return anchors"
   ]
  },
  {
   "cell_type": "markdown",
   "metadata": {},
   "source": [
    "#### 2.2.3. Test Cases"
   ]
  },
  {
   "cell_type": "code",
   "execution_count": 292,
   "metadata": {
    "collapsed": false
   },
   "outputs": [
    {
     "name": "stdout",
     "output_type": "stream",
     "text": [
      "anchor[x_centroid, y_centroid, width, height]:  [ 0  0 15 15]\n",
      "width' = width - x_centroid + 1 =  16\n",
      "height' = height - y_centroid + 1 =  16\n",
      "x_centroid' = x_centroid + 0.5 * (width' - 1) =  7.5\n",
      "y_centroid' = y_centroid + 0.5 * (height' - 1) =  7.5\n",
      "widths:  [ 23.  16.  11.]\n",
      "ratios:  [ 0.5  1.   2. ]\n",
      "heights:  [ 12.  16.  22.]\n",
      "anchors:  [[ -3.5   2.   18.5  13. ]\n",
      " [  0.    0.   15.   15. ]\n",
      " [  2.5  -3.   12.5  18. ]]\n",
      "ratio_anchors:  [[ -3.5   2.   18.5  13. ]\n",
      " [  0.    0.   15.   15. ]\n",
      " [  2.5  -3.   12.5  18. ]]\n"
     ]
    },
    {
     "data": {
      "text/plain": [
       "array([[ -3.5,   2. ,  18.5,  13. ],\n",
       "       [  0. ,   0. ,  15. ,  15. ],\n",
       "       [  2.5,  -3. ,  12.5,  18. ]])"
      ]
     },
     "execution_count": 292,
     "metadata": {},
     "output_type": "execute_result"
    }
   ],
   "source": [
    "anchor = np.array([0, 0, 15, 15])\n",
    "ratios = np.array([0.5, 1, 2])\n",
    "\n",
    "_generate_multi_ratio_anchors(anchor, ratios)"
   ]
  },
  {
   "cell_type": "markdown",
   "metadata": {},
   "source": [
    "### 2.3. Anchors Implementation:  _generate_multi_scaled_anchors(anchor, scales)"
   ]
  },
  {
   "cell_type": "markdown",
   "metadata": {},
   "source": [
    "#### 2.3.1. Mathematical Expressions\n",
    "\n",
    "**Inputs**\n",
    "\n",
    "- anchor: [x_centroid, y_centroid, width, height]\n",
    "- scales: [s1, s2, s3]\n",
    "\n",
    "**Outputs**\n",
    "\n",
    "- scaled_anchors: a matrix\n",
    "\n",
    "```\n",
    "        array([[ -56.,  -56.,   71.,   71.],\n",
    "               [-120., -120.,  135.,  135.],\n",
    "               [-248., -248.,  263.,  263.]])\n",
    "```\n",
    "\n",
    "**Expressions**\n",
    "\n",
    "- anchor -> width, height, x_centroid, y_centroid\n",
    "- widths = width * scales\n",
    "- heights = height * scales\n",
    "- widths, heights, x_centroid, y_centroid -> scaled_anchors "
   ]
  },
  {
   "cell_type": "markdown",
   "metadata": {},
   "source": [
    "#### 2.3.2. Source Codes"
   ]
  },
  {
   "cell_type": "code",
   "execution_count": 297,
   "metadata": {
    "collapsed": true
   },
   "outputs": [],
   "source": [
    "def _generate_multi_scaled_anchors(anchor, scales):\n",
    "    \"\"\"\n",
    "    Input an anchor [x_centroid, y_centroid, width, height] and scales [s1, s2, s3]\n",
    "    and returns the batch of scaled anchors.\n",
    "    \n",
    "    Algorithms:\n",
    "    - inputs:\n",
    "      - anchor: [x_centroid, y_centroid, width, height]\n",
    "      - scales: [s1, s2, s3, ...]\n",
    "    - output: scaled_anchors\n",
    "    - process:\n",
    "      - get width, height, x_centroid, y_centroid\n",
    "      - widths = width * scales\n",
    "      - heights = height * scales\n",
    "      - widths, heights, x_centroid, y_centroid -> scaled_anchors\n",
    "    \n",
    "    Inputs:\n",
    "    @param anchor: (type) numpy.array(), a vector [x_centroid, y_centroid, width, height]\n",
    "    @param scales: (type) numpy.array(), a vector [s1, s2, s3]\n",
    "     \n",
    "    Outputs:\n",
    "    @param scaled_anchors:\n",
    "    \n",
    "        array([[ -56.,  -56.,   71.,   71.],\n",
    "               [-120., -120.,  135.,  135.],\n",
    "               [-248., -248.,  263.,  263.]])\n",
    "    \"\"\"\n",
    "\n",
    "    width, height, x_centroid, y_centroid = _get_anchor_info(anchor)\n",
    "    \n",
    "    widths = width * scales\n",
    "    heights = height * scales\n",
    "    \n",
    "    print \"width: \", width\n",
    "    print \"height: \", height\n",
    "    print \"scales: \", scales\n",
    "    print \"widths: \", widths\n",
    "    print \"heights: \", heights\n",
    "    print \"x_centroid: \", x_centroid\n",
    "    print \"y_centroid: \", y_centroid\n",
    "    \n",
    "    anchors = _create_anchors(widths, heights, x_centroid, y_centroid)\n",
    "    \n",
    "    print \"scaled_anchors: \", anchors\n",
    "\n",
    "    return anchors"
   ]
  },
  {
   "cell_type": "markdown",
   "metadata": {},
   "source": [
    "#### 2.3.3. Test Cases"
   ]
  },
  {
   "cell_type": "code",
   "execution_count": 298,
   "metadata": {
    "collapsed": false
   },
   "outputs": [
    {
     "name": "stdout",
     "output_type": "stream",
     "text": [
      "anchor[x_centroid, y_centroid, width, height]:  [  2.5  -3.   12.5  18. ]\n",
      "width' = width - x_centroid + 1 =  11.0\n",
      "height' = height - y_centroid + 1 =  22.0\n",
      "x_centroid' = x_centroid + 0.5 * (width' - 1) =  7.5\n",
      "y_centroid' = y_centroid + 0.5 * (height' - 1) =  7.5\n",
      "width:  11.0\n",
      "height:  22.0\n",
      "scales:  [ 8 16 32]\n",
      "widths:  [  88.  176.  352.]\n",
      "heights:  [ 176.  352.  704.]\n",
      "x_centroid:  7.5\n",
      "y_centroid:  7.5\n",
      "anchors:  [[ -36.  -80.   51.   95.]\n",
      " [ -80. -168.   95.  183.]\n",
      " [-168. -344.  183.  359.]]\n",
      "scaled_anchors:  [[ -36.  -80.   51.   95.]\n",
      " [ -80. -168.   95.  183.]\n",
      " [-168. -344.  183.  359.]]\n"
     ]
    },
    {
     "data": {
      "text/plain": [
       "array([[ -36.,  -80.,   51.,   95.],\n",
       "       [ -80., -168.,   95.,  183.],\n",
       "       [-168., -344.,  183.,  359.]])"
      ]
     },
     "execution_count": 298,
     "metadata": {},
     "output_type": "execute_result"
    }
   ],
   "source": [
    "# test single anchor\n",
    "\n",
    "anchor = np.array([2.5, -3, 12.5, 18])\n",
    "scales = np.array([8, 16, 32])\n",
    "\n",
    "_generate_multi_scaled_anchors(anchor, scales)"
   ]
  },
  {
   "cell_type": "markdown",
   "metadata": {},
   "source": [
    "### 2.4. Anchors Implementation: _get_anchor_info(anchor)"
   ]
  },
  {
   "cell_type": "markdown",
   "metadata": {},
   "source": [
    "#### 2.4.1. Mathematical Expressions\n",
    "\n",
    "**Inputs**\n",
    "\n",
    "anchor[x_centroid, y_centroid, width, height]\n",
    "\n",
    "**Outputs**\n",
    "\n",
    "- width'\n",
    "- height'\n",
    "- x_centroid'\n",
    "- y_centroid'\n",
    "\n",
    "**Expressions**\n",
    "\n",
    "- width' = width - x_centroid + 1\n",
    "- height' = height - y_centroid + 1\n",
    "- x_centroid' = x_centroid + 0.5 * (width' - 1)\n",
    "- y_centroid' = y_centroid + 0.5 * (height' - 1)"
   ]
  },
  {
   "cell_type": "markdown",
   "metadata": {},
   "source": [
    "#### 2.4.2. Source Codes"
   ]
  },
  {
   "cell_type": "code",
   "execution_count": 94,
   "metadata": {
    "collapsed": true
   },
   "outputs": [],
   "source": [
    "def _get_anchor_info(anchor):\n",
    "    \"\"\"\n",
    "    Returns the anchor info (width, height, x_centroid, y_centroid) \n",
    "    by an anchor [x_centroid, y_centroid, width, height].\n",
    "    \n",
    "    Algorithms:\n",
    "    - input: anchor[x_centroid, y_centorid, width, height]\n",
    "    - outputs: width', height', x_centroid', y_centroid'\n",
    "    - process:\n",
    "      - width' = width - x_centroid + 1\n",
    "      - height' = height - y_centroid + 1\n",
    "      - x_centroid' = x_centroid + 0.5 * (width' - 1)\n",
    "      - y_centroid' = y_centroid + 0.5 * (height' - 1)\n",
    "\n",
    "    \n",
    "    Inputs:\n",
    "    @param anchor: [x_centroid, y_centroid, width, height]\n",
    "    \n",
    "    Outputs:\n",
    "    @output anchor: width, height, x_centroid, y_centroid\n",
    "    \"\"\"\n",
    "\n",
    "    width = anchor[2] - anchor[0] + 1\n",
    "    height = anchor[3] - anchor[1] + 1\n",
    "    x_centroid = anchor[0] + 0.5 * (width - 1)\n",
    "    y_centroid = anchor[1] + 0.5 * (height - 1)\n",
    "\n",
    "    print \"anchor[x_centroid, y_centroid, width, height]: \", anchor\n",
    "    print \"width' = width - x_centroid + 1 = \", width\n",
    "    print \"height' = height - y_centroid + 1 = \", height\n",
    "    print \"x_centroid' = x_centroid + 0.5 * (width' - 1) = \", x_centroid\n",
    "    print \"y_centroid' = y_centroid + 0.5 * (height' - 1) = \", y_centroid\n",
    "\n",
    "    return width, height, x_centroid, y_centroid"
   ]
  },
  {
   "cell_type": "markdown",
   "metadata": {},
   "source": [
    "#### 2.4.3. Test Cases"
   ]
  },
  {
   "cell_type": "code",
   "execution_count": 99,
   "metadata": {
    "collapsed": false
   },
   "outputs": [
    {
     "name": "stdout",
     "output_type": "stream",
     "text": [
      "anchor[x_centroid, y_centroid, width, height]:  [0, 0, 15, 15]\n",
      "width' = width - x_centroid + 1 =  16\n",
      "height' = height - y_centroid + 1 =  16\n",
      "x_centroid' = x_centroid + 0.5 * (width' - 1) =  7.5\n",
      "y_centroid' = y_centroid + 0.5 * (height' - 1) =  7.5\n"
     ]
    },
    {
     "data": {
      "text/plain": [
       "(16, 16, 7.5, 7.5)"
      ]
     },
     "execution_count": 99,
     "metadata": {},
     "output_type": "execute_result"
    }
   ],
   "source": [
    "anchor = [0, 0, 15, 15]\n",
    "\n",
    "_get_anchor_info(anchor)"
   ]
  },
  {
   "cell_type": "markdown",
   "metadata": {},
   "source": [
    "### 2.5. Anchors Implementation: _create_anchors(widths, heights, x_centroid, y_centroid)"
   ]
  },
  {
   "cell_type": "markdown",
   "metadata": {},
   "source": [
    "#### 2.5.1. Mathematical Expressions\n",
    "\n",
    "**Inputs**\n",
    "\n",
    "- widths:\n",
    "- heights:\n",
    "- x_centroid:\n",
    "- y_centroid:\n",
    "\n",
    "**Outputs**\n",
    "\n",
    "- anchors:\n",
    "\n",
    "**Expressions**\n",
    "\n",
    "- widths.T and heights.T\n",
    "- x_centroid - 0.5 * (widths - 1)\n",
    "- y_centroid - 0.5 * (heights - 1)\n",
    "- x_centroid + 0.5 * (widths - 1)\n",
    "- y_centroid + 0.5 * (heights - 1)"
   ]
  },
  {
   "cell_type": "markdown",
   "metadata": {},
   "source": [
    "#### 2.5.2. Source Codes"
   ]
  },
  {
   "cell_type": "code",
   "execution_count": 105,
   "metadata": {
    "collapsed": true
   },
   "outputs": [],
   "source": [
    "def _create_anchors(widths, heights, x_centroid, y_centroid):\n",
    "    \"\"\"\n",
    "    Given a vector of widths[x1, x2, x3] and heights[h1, h2, h3] around\n",
    "    a center (x_centroid, y_centroid), returns a set of anchors (windows).\n",
    "    \n",
    "    Algorithms:\n",
    "    - inputs:\n",
    "      - widths: a vector [w1, w2, w3, ...]\n",
    "      - heights: a vector [h1, h2, h3, ...]\n",
    "      - x_centroid: a value\n",
    "      - y_centroid: a value\n",
    "    - outputs:\n",
    "      - anchors:\n",
    "    - process:\n",
    "      - to transform the widths and heights: row -> col\n",
    "      - to calculate the anchors\n",
    "        - x_centroid - 0.5 * (widths - 1)\n",
    "        - y_centroid - 0.5 * (heights - 1)\n",
    "        - x_centroid + 0.5 * (widths - 1)\n",
    "        - y_centroid + 0.5 * (heights - 1)\n",
    "      - to transform the anchors in sequence horizontally\n",
    "    \n",
    "    Inputs:\n",
    "    @param widths: (type) numpy.array(), a vector [w1, w2, w3, ...]\n",
    "    @param heights: (type) numpy.array(), a vector [h1, h2, h3, ...]\n",
    "    @param x_centroid: a value\n",
    "    @param y_centroid: a value\n",
    "    \n",
    "    Outputs:\n",
    "    @output anchors:\n",
    "    \"\"\"\n",
    "\n",
    "    # transform the widths: row -> col\n",
    "    widths = widths[:, np.newaxis]\n",
    "    heights = heights[:, np.newaxis]\n",
    "\n",
    "    # calculate anchors and stack arrays in sequence horizontally (column wise)\n",
    "    anchors = np.hstack((x_centroid - 0.5 * (widths - 1),\n",
    "                         y_centroid - 0.5 * (heights - 1),\n",
    "                         x_centroid + 0.5 * (widths - 1),\n",
    "                         y_centroid + 0.5 * (heights - 1)))\n",
    "    \n",
    "    print \"anchors: \", anchors\n",
    "\n",
    "    return anchors"
   ]
  },
  {
   "cell_type": "markdown",
   "metadata": {},
   "source": [
    "#### 2.5.3. Test Cases"
   ]
  },
  {
   "cell_type": "code",
   "execution_count": 106,
   "metadata": {
    "collapsed": false
   },
   "outputs": [
    {
     "name": "stdout",
     "output_type": "stream",
     "text": [
      "anchors:  [[ -56.  -56.   71.   71.]\n",
      " [-120. -120.  135.  135.]\n",
      " [-248. -248.  263.  263.]]\n"
     ]
    },
    {
     "data": {
      "text/plain": [
       "array([[ -56.,  -56.,   71.,   71.],\n",
       "       [-120., -120.,  135.,  135.],\n",
       "       [-248., -248.,  263.,  263.]])"
      ]
     },
     "execution_count": 106,
     "metadata": {},
     "output_type": "execute_result"
    }
   ],
   "source": [
    "widths = np.array([128, 256, 512])\n",
    "heights = np.array([128, 256, 512])\n",
    "x_centroid = 7.5\n",
    "y_centroid = 7.5\n",
    "\n",
    "_create_anchors(widths, heights, x_centroid, y_centroid)"
   ]
  },
  {
   "cell_type": "markdown",
   "metadata": {},
   "source": [
    "## 3. Test Examples"
   ]
  },
  {
   "cell_type": "code",
   "execution_count": 242,
   "metadata": {
    "collapsed": false
   },
   "outputs": [
    {
     "name": "stdout",
     "output_type": "stream",
     "text": [
      "anchor[x_centroid, y_centroid, width, height]:  [ 0  0 15 15]\n",
      "width' = width - x_centroid + 1 =  16\n",
      "height' = height - y_centroid + 1 =  16\n",
      "x_centroid' = x_centroid + 0.5 * (width' - 1) =  7.5\n",
      "y_centroid' = y_centroid + 0.5 * (height' - 1) =  7.5\n",
      "anchors:  [[ -3.5   2.   18.5  13. ]\n",
      " [  0.    0.   15.   15. ]\n",
      " [  2.5  -3.   12.5  18. ]]\n",
      "ratio_anchors:  [[ -3.5   2.   18.5  13. ]\n",
      " [  0.    0.   15.   15. ]\n",
      " [  2.5  -3.   12.5  18. ]]\n",
      "anchor[x_centroid, y_centroid, width, height]:  [ -3.5   2.   18.5  13. ]\n",
      "width' = width - x_centroid + 1 =  23.0\n",
      "height' = height - y_centroid + 1 =  12.0\n",
      "x_centroid' = x_centroid + 0.5 * (width' - 1) =  7.5\n",
      "y_centroid' = y_centroid + 0.5 * (height' - 1) =  7.5\n",
      "anchors:  [[ -84.  -40.   99.   55.]\n",
      " [-176.  -88.  191.  103.]\n",
      " [-360. -184.  375.  199.]]\n",
      "scaled_anchors:  [[ -84.  -40.   99.   55.]\n",
      " [-176.  -88.  191.  103.]\n",
      " [-360. -184.  375.  199.]]\n",
      "anchor[x_centroid, y_centroid, width, height]:  [  0.   0.  15.  15.]\n",
      "width' = width - x_centroid + 1 =  16.0\n",
      "height' = height - y_centroid + 1 =  16.0\n",
      "x_centroid' = x_centroid + 0.5 * (width' - 1) =  7.5\n",
      "y_centroid' = y_centroid + 0.5 * (height' - 1) =  7.5\n",
      "anchors:  [[ -56.  -56.   71.   71.]\n",
      " [-120. -120.  135.  135.]\n",
      " [-248. -248.  263.  263.]]\n",
      "scaled_anchors:  [[ -56.  -56.   71.   71.]\n",
      " [-120. -120.  135.  135.]\n",
      " [-248. -248.  263.  263.]]\n",
      "anchor[x_centroid, y_centroid, width, height]:  [  2.5  -3.   12.5  18. ]\n",
      "width' = width - x_centroid + 1 =  11.0\n",
      "height' = height - y_centroid + 1 =  22.0\n",
      "x_centroid' = x_centroid + 0.5 * (width' - 1) =  7.5\n",
      "y_centroid' = y_centroid + 0.5 * (height' - 1) =  7.5\n",
      "anchors:  [[ -36.  -80.   51.   95.]\n",
      " [ -80. -168.   95.  183.]\n",
      " [-168. -344.  183.  359.]]\n",
      "scaled_anchors:  [[ -36.  -80.   51.   95.]\n",
      " [ -80. -168.   95.  183.]\n",
      " [-168. -344.  183.  359.]]\n",
      "anchors:  [[ -84.  -40.   99.   55.]\n",
      " [-176.  -88.  191.  103.]\n",
      " [-360. -184.  375.  199.]\n",
      " [ -56.  -56.   71.   71.]\n",
      " [-120. -120.  135.  135.]\n",
      " [-248. -248.  263.  263.]\n",
      " [ -36.  -80.   51.   95.]\n",
      " [ -80. -168.   95.  183.]\n",
      " [-168. -344.  183.  359.]]\n"
     ]
    }
   ],
   "source": [
    "# generate anchors\n",
    "anchors = generate_anchors()\n",
    "print \"anchors: \", anchors"
   ]
  },
  {
   "cell_type": "code",
   "execution_count": 286,
   "metadata": {
    "collapsed": false
   },
   "outputs": [],
   "source": [
    "import matplotlib\n",
    "import matplotlib.pyplot as plt\n",
    "%matplotlib inline\n",
    "\n",
    "def draw_anchors(anchors):\n",
    "    \"\"\"\n",
    "    Drawing the anchors by anchor data.\n",
    "    \"\"\"\n",
    "    \n",
    "    fig = plt.figure()\n",
    "    ax = fig.add_subplot(111)\n",
    "    \n",
    "    # add anchors\n",
    "    ax.add_patch(matplotlib.patches.Rectangle((0, 0), 15, 15, fill=False, edgecolor='red'))\n",
    "    for anchor in anchors:\n",
    "        ax.add_patch(matplotlib.patches.Rectangle((anchor[0], anchor[1]),    # x_centroid, y_centroid\n",
    "                                                  anchor[2],                 # width\n",
    "                                                  anchor[3],                 # height\n",
    "                                                  fill=False,\n",
    "                                                  edgecolor='blue'))\n",
    "\n",
    "    plt.xlim([-500, 500])\n",
    "    plt.ylim([-500, 500])\n",
    "    plt.show()"
   ]
  },
  {
   "cell_type": "code",
   "execution_count": 287,
   "metadata": {
    "collapsed": false
   },
   "outputs": [
    {
     "data": {
      "image/png": "[encoded data removed]",
      "text/plain": [
       "<matplotlib.figure.Figure at 0x7fe66026e990>"
      ]
     },
     "metadata": {},
     "output_type": "display_data"
    }
   ],
   "source": [
    "draw_anchors(anchors)"
   ]
  },
  {
   "cell_type": "code",
   "execution_count": null,
   "metadata": {
    "collapsed": true
   },
   "outputs": [],
   "source": []
  }
 ],
 "metadata": {
  "kernelspec": {
   "display_name": "Python 2",
   "language": "python",
   "name": "python2"
  },
  "language_info": {
   "codemirror_mode": {
    "name": "ipython",
    "version": 2
   },
   "file_extension": ".py",
   "mimetype": "text/x-python",
   "name": "python",
   "nbconvert_exporter": "python",
   "pygments_lexer": "ipython2",
   "version": "2.7.6"
  }
 },
 "nbformat": 4,
 "nbformat_minor": 2
}

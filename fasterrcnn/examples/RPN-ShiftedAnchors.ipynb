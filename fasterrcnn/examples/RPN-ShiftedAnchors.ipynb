{
 "cells": [
  {
   "cell_type": "markdown",
   "metadata": {},
   "source": [
    "# Region Proposal Network: Shifted Anchors"
   ]
  },
  {
   "cell_type": "markdown",
   "metadata": {},
   "source": [
    "## 1. Region Proposal Network: Overview"
   ]
  },
  {
   "cell_type": "markdown",
   "metadata": {},
   "source": [
    "Steps:\n",
    "\n",
    "- generate anchors\n",
    "- generate shifts\n",
    "- generate shifted_anchors"
   ]
  },
  {
   "cell_type": "code",
   "execution_count": 2,
   "metadata": {
    "collapsed": true
   },
   "outputs": [],
   "source": [
    "import numpy as np"
   ]
  },
  {
   "cell_type": "markdown",
   "metadata": {},
   "source": [
    "Shifts\n",
    "\n",
    "```\n",
    "    shift_x.shape: (38, 50)\n",
    "    shift_y.shape: (38, 50)\n",
    "    \n",
    "    shift_x: shape (38, 50)\n",
    "    \n",
    "        [[0 * feat_stride, 1 * feat_stride, 2 * feat_stride, ..., 49 * feat_stride],]\n",
    "        \n",
    "    shift_y: shape (38, 50)\n",
    "    \n",
    "        [[0 * feat_stride, 1 * feat_stride, 2 * feat_stride, ..., 37 * feat_stride],]\n",
    "        \n",
    "    shifts: \n",
    "```"
   ]
  },
  {
   "cell_type": "code",
   "execution_count": 16,
   "metadata": {
    "collapsed": false
   },
   "outputs": [
    {
     "name": "stdout",
     "output_type": "stream",
     "text": [
      "shift_x_init:  [ 0  1  2  3  4  5  6  7  8  9 10 11 12 13 14 15 16 17 18 19 20 21 22 23 24\n",
      " 25 26 27 28 29 30 31 32 33 34 35 36 37 38 39 40 41 42 43 44 45 46 47 48 49]\n",
      "shift_x:  [  0  16  32  48  64  80  96 112 128 144 160 176 192 208 224 240 256 272\n",
      " 288 304 320 336 352 368 384 400 416 432 448 464 480 496 512 528 544 560\n",
      " 576 592 608 624 640 656 672 688 704 720 736 752 768 784]\n",
      "shift_y_init:  [ 0  1  2  3  4  5  6  7  8  9 10 11 12 13 14 15 16 17 18 19 20 21 22 23 24\n",
      " 25 26 27 28 29 30 31 32 33 34 35 36 37]\n",
      "shift_y:  [  0  16  32  48  64  80  96 112 128 144 160 176 192 208 224 240 256 272\n",
      " 288 304 320 336 352 368 384 400 416 432 448 464 480 496 512 528 544 560\n",
      " 576 592]\n",
      "shift_x_with_meshgrid:  [[  0  16  32 ..., 752 768 784]\n",
      " [  0  16  32 ..., 752 768 784]\n",
      " [  0  16  32 ..., 752 768 784]\n",
      " ..., \n",
      " [  0  16  32 ..., 752 768 784]\n",
      " [  0  16  32 ..., 752 768 784]\n",
      " [  0  16  32 ..., 752 768 784]]\n",
      "shift_y_with_meshgrid:  [[  0   0   0 ...,   0   0   0]\n",
      " [ 16  16  16 ...,  16  16  16]\n",
      " [ 32  32  32 ...,  32  32  32]\n",
      " ..., \n",
      " [560 560 560 ..., 560 560 560]\n",
      " [576 576 576 ..., 576 576 576]\n",
      " [592 592 592 ..., 592 592 592]]\n",
      "shift_x_with_meshgrid.shape:  (38, 50)\n",
      "shift_y_with_meshgrid.shape:  (38, 50)\n",
      "shift_x.ravel():  [  0  16  32 ..., 752 768 784]\n",
      "shift_y.ravel():  [  0   0   0 ..., 592 592 592]\n",
      "shifts:  [[  0   0   0   0]\n",
      " [ 16   0  16   0]\n",
      " [ 32   0  32   0]\n",
      " ..., \n",
      " [752 592 752 592]\n",
      " [768 592 768 592]\n",
      " [784 592 784 592]]\n"
     ]
    }
   ],
   "source": [
    "# enumerate all shifts\n",
    "\n",
    "width = 50\n",
    "height = 38\n",
    "_feat_stride = 16\n",
    "\n",
    "shift_x_init = np.arange(0, width)\n",
    "shift_x = shift_x_init * _feat_stride\n",
    "\n",
    "shift_y_init = np.arange(0, height)\n",
    "shift_y = shift_y_init * _feat_stride\n",
    "\n",
    "print \"shift_x_init: \", shift_x_init\n",
    "print \"shift_x: \", shift_x\n",
    "print \"shift_y_init: \", shift_y_init\n",
    "print \"shift_y: \", shift_y\n",
    "\n",
    "shift_x, shift_y = np.meshgrid(shift_x, shift_y)\n",
    "print \"shift_x_with_meshgrid: \", shift_x\n",
    "print \"shift_y_with_meshgrid: \", shift_y\n",
    "print \"shift_x_with_meshgrid.shape: \", shift_x.shape\n",
    "print \"shift_y_with_meshgrid.shape: \", shift_y.shape\n",
    "\n",
    "shifts = np.vstack((shift_x.ravel(), shift_y.ravel(), shift_x.ravel(), shift_y.ravel())).transpose()\n",
    "print \"shift_x.ravel(): \", shift_x.ravel()\n",
    "print \"shift_y.ravel(): \", shift_y.ravel()\n",
    "print \"shifts: \", shifts"
   ]
  },
  {
   "cell_type": "code",
   "execution_count": 20,
   "metadata": {
    "collapsed": false
   },
   "outputs": [],
   "source": [
    "anchors = [[ -84,  -40,   99,   55],\n",
    "           [-176,  -88,  191,  103],\n",
    "           [-360, -184,  375,  199],\n",
    "           [ -56,  -56,   71,   71],\n",
    "           [-120, -120,  135,  135],\n",
    "           [-248, -248,  263,  263],\n",
    "           [ -36,  -80,   51,   95],\n",
    "           [ -80, -168,   95,  183],\n",
    "           [-168, -344,  183,  359]]\n",
    "\n"
   ]
  },
  {
   "cell_type": "code",
   "execution_count": null,
   "metadata": {
    "collapsed": true
   },
   "outputs": [],
   "source": []
  }
 ],
 "metadata": {
  "kernelspec": {
   "display_name": "Python 2",
   "language": "python",
   "name": "python2"
  },
  "language_info": {
   "codemirror_mode": {
    "name": "ipython",
    "version": 2
   },
   "file_extension": ".py",
   "mimetype": "text/x-python",
   "name": "python",
   "nbconvert_exporter": "python",
   "pygments_lexer": "ipython2",
   "version": "2.7.6"
  }
 },
 "nbformat": 4,
 "nbformat_minor": 2
}

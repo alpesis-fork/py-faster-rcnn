{
 "cells": [
  {
   "cell_type": "markdown",
   "metadata": {},
   "source": [
    "# Region Proposal Network: Proposals Generation"
   ]
  },
  {
   "cell_type": "markdown",
   "metadata": {},
   "source": [
    "## Key Concepts\n",
    "\n",
    "Object localization and detection\n",
    "\n",
    "Region Proposals:\n",
    "\n",
    "- Selective Search\n",
    "\n",
    "RoI Pooling: resize all regions with the data to a fixed size\n",
    "\n",
    "boxes = [r, x1, y1, x2, y2]\n",
    "\n",
    "Region Proposal Network (RPN) takes an image (of any size) as input, and outputs a set of rectangular object proposals, each with an objectness score.\n",
    "\n",
    "### Bounding Box\n",
    "\n",
    "- Bounding Box:\n",
    "- Ground Truth:\n",
    "- Adjust Bounding Box:\n",
    "- Predicted Bounding Box:\n",
    "- Regions of Interest (RoI)\n",
    "- Intersection over Union (IoU):\n",
    "\n",
    "Rectangle: (x, y, width, height)\n",
    "\n",
    "- x: the x-corrdinate of the top left corner\n",
    "- y: the y-corrdinate of the top left corner\n",
    "- width: the width of the rectangle\n",
    "- height: the height of the rectangle\n",
    "\n",
    "\n",
    "\n",
    "      width' = width - x_centroid + 1\n",
    "      height' = height - y_centroid + 1\n",
    "      x_centroid' = x_centroid + 0.5 * (width' - 1)\n",
    "      y_centroid' = y_centroid + 0.5 * (height' - 1)\n",
    "\n",
    "LowerLeft: (x1, y1)  \n",
    "\n",
    "- x1 = x - 0.5 * width\n",
    "- y1 = y - 0.5 * height\n",
    "\n",
    "UpperRight: (x2, y2)\n",
    "\n",
    "- x2 = x + 0.5 * width\n",
    "- y2 = y + 0.5 * height"
   ]
  },
  {
   "cell_type": "code",
   "execution_count": null,
   "metadata": {
    "collapsed": true
   },
   "outputs": [],
   "source": []
  }
 ],
 "metadata": {
  "kernelspec": {
   "display_name": "Python 2",
   "language": "python",
   "name": "python2"
  },
  "language_info": {
   "codemirror_mode": {
    "name": "ipython",
    "version": 2
   },
   "file_extension": ".py",
   "mimetype": "text/x-python",
   "name": "python",
   "nbconvert_exporter": "python",
   "pygments_lexer": "ipython2",
   "version": "2.7.6"
  }
 },
 "nbformat": 4,
 "nbformat_minor": 2
}

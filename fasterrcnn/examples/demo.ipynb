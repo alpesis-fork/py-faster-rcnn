{
 "cells": [
  {
   "cell_type": "markdown",
   "metadata": {},
   "source": [
    "# Demo"
   ]
  },
  {
   "cell_type": "markdown",
   "metadata": {},
   "source": [
    "ref: http://christopher5106.github.io/deep/learning/2015/09/04/Deep-learning-tutorial-on-Caffe-Technology.html"
   ]
  },
  {
   "cell_type": "code",
   "execution_count": 1,
   "metadata": {
    "collapsed": true,
    "deletable": true,
    "editable": true
   },
   "outputs": [],
   "source": [
    "import os\n",
    "import sys\n",
    "\n",
    "NOTEBOOK_PATH = os.getcwd()\n",
    "FASTER_RCNN_PATH = NOTEBOOK_PATH + \"/../py-faster-rcnn/\"\n",
    "CAFFE_PATH = FASTER_RCNN_PATH + \"caffe-fast-rcnn/python\"\n",
    "\n",
    "sys.path.append(FASTER_RCNN_PATH)\n",
    "sys.path.append(CAFFE_PATH)\n",
    "\n",
    "import caffe"
   ]
  },
  {
   "cell_type": "code",
   "execution_count": 2,
   "metadata": {
    "collapsed": false
   },
   "outputs": [],
   "source": [
    "import numpy as np\n",
    "import matplotlib.pyplot as plt\n",
    "from PIL import Image"
   ]
  },
  {
   "cell_type": "code",
   "execution_count": 3,
   "metadata": {
    "collapsed": true
   },
   "outputs": [],
   "source": [
    "caffe.set_mode_cpu()"
   ]
  },
  {
   "cell_type": "code",
   "execution_count": 22,
   "metadata": {
    "collapsed": true
   },
   "outputs": [],
   "source": [
    "net = caffe.Net('conv.prototxt', caffe.TEST)"
   ]
  },
  {
   "cell_type": "code",
   "execution_count": 23,
   "metadata": {
    "collapsed": false
   },
   "outputs": [
    {
     "name": "stdout",
     "output_type": "stream",
     "text": [
      "(1, 3, 96, 96)\n"
     ]
    }
   ],
   "source": [
    "print net.blobs['conv'].data.shape"
   ]
  },
  {
   "cell_type": "code",
   "execution_count": 24,
   "metadata": {
    "collapsed": false
   },
   "outputs": [
    {
     "name": "stdout",
     "output_type": "stream",
     "text": [
      "(1, 1, 360, 480)\n",
      "[[[[  26.   27.   25. ...,   45.   50.   56.]\n",
      "   [  26.   27.   25. ...,   50.   52.   58.]\n",
      "   [  26.   27.   26. ...,   52.   55.   60.]\n",
      "   ..., \n",
      "   [  36.   32.   36. ...,  182.  188.  190.]\n",
      "   [  42.   42.   44. ...,  193.  184.  193.]\n",
      "   [  46.   49.   52. ...,  214.  183.  183.]]]]\n"
     ]
    }
   ],
   "source": [
    "im = np.array(Image.open(\"./cat_gray.jpg\"))\n",
    "im_input = im[np.newaxis, np.newaxis, :, :]\n",
    "net.blobs['data'].reshape(*im_input.shape)\n",
    "net.blobs['data'].data[...] = im_input\n",
    "\n",
    "print net.blobs['data'].data.shape\n",
    "print net.blobs['data'].data[...]"
   ]
  },
  {
   "cell_type": "code",
   "execution_count": 25,
   "metadata": {
    "collapsed": false
   },
   "outputs": [
    {
     "data": {
      "text/plain": [
       "{'conv': array([[[[  674.,   678.,   677., ...,  1347.,  1339.,  1361.],\n",
       "          [  672.,   671.,   669., ...,  1432.,  1428.,  1446.],\n",
       "          [  674.,   670.,   669., ...,  1521.,  1518.,  1528.],\n",
       "          ..., \n",
       "          [  956.,   954.,   972., ...,  4977.,  4880.,  4825.],\n",
       "          [  971.,   979.,   996., ...,  5084.,  4976.,  4921.],\n",
       "          [ 1046.,  1067.,  1082., ...,  5131.,  4994.,  4893.]],\n",
       " \n",
       "         [[  674.,   678.,   677., ...,  1347.,  1339.,  1361.],\n",
       "          [  672.,   671.,   669., ...,  1432.,  1428.,  1446.],\n",
       "          [  674.,   670.,   669., ...,  1521.,  1518.,  1528.],\n",
       "          ..., \n",
       "          [  956.,   954.,   972., ...,  4977.,  4880.,  4825.],\n",
       "          [  971.,   979.,   996., ...,  5084.,  4976.,  4921.],\n",
       "          [ 1046.,  1067.,  1082., ...,  5131.,  4994.,  4893.]],\n",
       " \n",
       "         [[  674.,   678.,   677., ...,  1347.,  1339.,  1361.],\n",
       "          [  672.,   671.,   669., ...,  1432.,  1428.,  1446.],\n",
       "          [  674.,   670.,   669., ...,  1521.,  1518.,  1528.],\n",
       "          ..., \n",
       "          [  956.,   954.,   972., ...,  4977.,  4880.,  4825.],\n",
       "          [  971.,   979.,   996., ...,  5084.,  4976.,  4921.],\n",
       "          [ 1046.,  1067.,  1082., ...,  5131.,  4994.,  4893.]]]], dtype=float32)}"
      ]
     },
     "execution_count": 25,
     "metadata": {},
     "output_type": "execute_result"
    }
   ],
   "source": [
    "net.forward()"
   ]
  },
  {
   "cell_type": "code",
   "execution_count": 26,
   "metadata": {
    "collapsed": true
   },
   "outputs": [],
   "source": [
    "net.save('cat.caffemodel')"
   ]
  },
  {
   "cell_type": "code",
   "execution_count": 28,
   "metadata": {
    "collapsed": false
   },
   "outputs": [
    {
     "name": "stdout",
     "output_type": "stream",
     "text": [
      "(3, 1, 5, 5)\n",
      "[[[[ 1.  1.  1.  1.  1.]\n",
      "   [ 1.  1.  1.  1.  1.]\n",
      "   [ 1.  1.  1.  1.  1.]\n",
      "   [ 1.  1.  1.  1.  1.]\n",
      "   [ 1.  1.  1.  1.  1.]]]\n",
      "\n",
      "\n",
      " [[[ 1.  1.  1.  1.  1.]\n",
      "   [ 1.  1.  1.  1.  1.]\n",
      "   [ 1.  1.  1.  1.  1.]\n",
      "   [ 1.  1.  1.  1.  1.]\n",
      "   [ 1.  1.  1.  1.  1.]]]\n",
      "\n",
      "\n",
      " [[[ 1.  1.  1.  1.  1.]\n",
      "   [ 1.  1.  1.  1.  1.]\n",
      "   [ 1.  1.  1.  1.  1.]\n",
      "   [ 1.  1.  1.  1.  1.]\n",
      "   [ 1.  1.  1.  1.  1.]]]]\n",
      "(3,)\n",
      "[ 1.  1.  1.]\n"
     ]
    }
   ],
   "source": [
    "# weights\n",
    "print net.params['conv'][0].data.shape\n",
    "print net.params['conv'][0].data[...]\n",
    "print net.params['conv'][1].data.shape\n",
    "print net.params['conv'][1].data[...]"
   ]
  },
  {
   "cell_type": "code",
   "execution_count": 29,
   "metadata": {
    "collapsed": false
   },
   "outputs": [
    {
     "name": "stdout",
     "output_type": "stream",
     "text": [
      "(1, 3, 356, 476)\n",
      "[[[[  674.   678.   677. ...,  1347.  1339.  1361.]\n",
      "   [  672.   671.   669. ...,  1432.  1428.  1446.]\n",
      "   [  674.   670.   669. ...,  1521.  1518.  1528.]\n",
      "   ..., \n",
      "   [  956.   954.   972. ...,  4977.  4880.  4825.]\n",
      "   [  971.   979.   996. ...,  5084.  4976.  4921.]\n",
      "   [ 1046.  1067.  1082. ...,  5131.  4994.  4893.]]\n",
      "\n",
      "  [[  674.   678.   677. ...,  1347.  1339.  1361.]\n",
      "   [  672.   671.   669. ...,  1432.  1428.  1446.]\n",
      "   [  674.   670.   669. ...,  1521.  1518.  1528.]\n",
      "   ..., \n",
      "   [  956.   954.   972. ...,  4977.  4880.  4825.]\n",
      "   [  971.   979.   996. ...,  5084.  4976.  4921.]\n",
      "   [ 1046.  1067.  1082. ...,  5131.  4994.  4893.]]\n",
      "\n",
      "  [[  674.   678.   677. ...,  1347.  1339.  1361.]\n",
      "   [  672.   671.   669. ...,  1432.  1428.  1446.]\n",
      "   [  674.   670.   669. ...,  1521.  1518.  1528.]\n",
      "   ..., \n",
      "   [  956.   954.   972. ...,  4977.  4880.  4825.]\n",
      "   [  971.   979.   996. ...,  5084.  4976.  4921.]\n",
      "   [ 1046.  1067.  1082. ...,  5131.  4994.  4893.]]]]\n"
     ]
    }
   ],
   "source": [
    "# data\n",
    "print net.blobs['conv'].data.shape\n",
    "print net.blobs['conv'].data[...]"
   ]
  },
  {
   "cell_type": "code",
   "execution_count": null,
   "metadata": {
    "collapsed": true
   },
   "outputs": [],
   "source": []
  }
 ],
 "metadata": {
  "kernelspec": {
   "display_name": "Python 2",
   "language": "python",
   "name": "python2"
  },
  "language_info": {
   "codemirror_mode": {
    "name": "ipython",
    "version": 2
   },
   "file_extension": ".py",
   "mimetype": "text/x-python",
   "name": "python",
   "nbconvert_exporter": "python",
   "pygments_lexer": "ipython2",
   "version": "2.7.6"
  }
 },
 "nbformat": 4,
 "nbformat_minor": 0
}

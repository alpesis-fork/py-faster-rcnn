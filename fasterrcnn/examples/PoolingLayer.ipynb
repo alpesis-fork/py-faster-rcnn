{
 "cells": [
  {
   "cell_type": "markdown",
   "metadata": {},
   "source": [
    "# Pooling Layer"
   ]
  },
  {
   "cell_type": "markdown",
   "metadata": {},
   "source": [
    "Types of pooling:\n",
    "\n",
    "- max\n",
    "- ave\n"
   ]
  },
  {
   "cell_type": "code",
   "execution_count": null,
   "metadata": {
    "collapsed": true
   },
   "outputs": [],
   "source": [
    "# bottom[0].num(): 1\n",
    "# bottom[0].count: 30720000 = 1 * 64 * 600 * 800\n",
    "# bottom[0].shape: [1, 64, 600, 800]\n",
    "# output.num():\n",
    "# output.count: \n",
    "# output.shape: [1, 64, 300, 400]\n",
    "\n",
    "# width: 800\n",
    "# height: 600\n",
    "\n",
    "# channels (# of feature map): 64\n",
    "\n",
    "# pooled_height: 300\n",
    "# pooled_width: 400\n",
    "\n",
    "# stride_h: 2\n",
    "# stride_w: 2\n",
    "# pad_h: 0\n",
    "# pad_w: 0\n",
    "\n",
    "# kernel_h: 2\n",
    "# kernel_w: 2\n",
    "\n",
    "\n",
    "    for bottom[0].num()\n",
    "    for channels\n",
    "    for pooled_height_ (ph)\n",
    "    for pooled_width_ (pw)\n",
    "    \n",
    "        # find location\n",
    "        hstart = ph * stride_h_ - pad_h_ = 0 * 2 - 0 = 2\n",
    "        wstart = pw * stride_w_ - pad_w_ = 0 * 2 - 0 = 2\n",
    "        hend = min(hstart + kernel_h_, height_) = min(2 + 2, ) = 4 \n",
    "        wend = min(wstart + kernel_w_, width_) = min(2 + 2, ) = 4\n",
    "        hstart = max(hstart, 0) = max(2, 0) = 2\n",
    "        wstart = max(wstart, 0) = max(2, 0) = 2\n",
    "        # [2, 2, 4, 4]\n",
    "\n",
    "        pool_index = ph * pooled_width_ + pw = 0 * 300 + 0 = 0\n",
    "\n",
    "        for hstart -> hend (h) (2->4)\n",
    "        for wstart -> wend (w) (2->4)\n",
    "            index = h * width_ + w = 2 * 800 + 2 = 1602 \n",
    "\n",
    "            # find max value\n",
    "            if (bottom_data[index] > top_data[pool_index])\n",
    "                top_data[pool_index] = bottom_data[index]\n",
    "\n",
    "                if use_top_mask\n",
    "                    top_mask[pool_index] = index\n",
    "                else\n",
    "                    mask[pool_index] = index"
   ]
  },
  {
   "cell_type": "code",
   "execution_count": null,
   "metadata": {
    "collapsed": true
   },
   "outputs": [],
   "source": []
  }
 ],
 "metadata": {
  "kernelspec": {
   "display_name": "Python 2",
   "language": "python",
   "name": "python2"
  },
  "language_info": {
   "codemirror_mode": {
    "name": "ipython",
    "version": 2
   },
   "file_extension": ".py",
   "mimetype": "text/x-python",
   "name": "python",
   "nbconvert_exporter": "python",
   "pygments_lexer": "ipython2",
   "version": "2.7.6"
  }
 },
 "nbformat": 4,
 "nbformat_minor": 2
}

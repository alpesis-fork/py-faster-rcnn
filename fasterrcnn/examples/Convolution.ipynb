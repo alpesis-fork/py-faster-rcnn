{
 "cells": [
  {
   "cell_type": "markdown",
   "metadata": {},
   "source": [
    "# Convolution"
   ]
  },
  {
   "cell_type": "code",
   "execution_count": null,
   "metadata": {
    "collapsed": true
   },
   "outputs": [],
   "source": [
    "# im2col\n",
    "#\n",
    "# input:\n",
    "# - data_im\n",
    "# \n",
    "# output:\n",
    "# - data_col\n",
    "# \n",
    "# parameters:\n",
    "# - channels: 3\n",
    "# - height: 600\n",
    "# - width: 800\n",
    "# - kernel_h: 3\n",
    "# - kernel_w: 3\n",
    "# - pad_h: 1\n",
    "# - pad_w: 1\n",
    "# - stride_h: 1\n",
    "# - stride_w: 1\n",
    "# - dilation_h: 1\n",
    "# - dilation_w: 1\n",
    "\n",
    "# output_h = (height + 2 * pad_h - (dilation_h * (kernel_h - 1) + 1)) / stride_h + 1\n",
    "#          = (600 + 2 * 1 - (1 * (3 - 1) + 1)) / 1 + 1\n",
    "#          = 600\n",
    "#\n",
    "# output_w = (width + 2 * pad_w - (dilation_w * (kernel_w - 1) + 1)) / stride_w + 1\n",
    "#          = (800 + 2 * 1 - (1 * (3 - 1) + 1)) / 1 + 1\n",
    "#          = 800\n",
    "\n",
    "\n",
    "# channel_size = height * width = 600 * 800 = 480000\n",
    "\n",
    "# for channels: (3)\n",
    "# for kernel_h: (3)\n",
    "# for kernel_w: (3)\n",
    "#     input_row = -pad_h + kernel_row * dilation_h = -1 + 3 * 1 = 2\n",
    "#    \n",
    "#     for output_h: (600)\n",
    "#         if (!is_a_ge_zero_and_a_lt_b(input_row, height))\n",
    "#             for output_w: (800)\n",
    "#                 *(data_col++) = 0\n",
    "#         else:\n",
    "#             input_col = -pad_w + kernel_col * dilation_w = -1 + 3 * 1 = 2\n",
    "#              for output_w: (800)\n",
    "#                  if (is_a_ge_zero_and_a_lt_b(input_col, width))\n",
    "#                       *(data_col++) = data_im[input_row * width + input_col]\n",
    "#                  else:\n",
    "#                       *(data_col++) = 0;\n",
    "#                  input_col += stride_w\n",
    "#         input_row += stride_h"
   ]
  }
 ],
 "metadata": {
  "kernelspec": {
   "display_name": "Python 2",
   "language": "python",
   "name": "python2"
  },
  "language_info": {
   "codemirror_mode": {
    "name": "ipython",
    "version": 2
   },
   "file_extension": ".py",
   "mimetype": "text/x-python",
   "name": "python",
   "nbconvert_exporter": "python",
   "pygments_lexer": "ipython2",
   "version": "2.7.6"
  }
 },
 "nbformat": 4,
 "nbformat_minor": 2
}
